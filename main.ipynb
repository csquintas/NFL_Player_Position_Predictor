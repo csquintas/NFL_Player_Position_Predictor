{
 "cells": [
  {
   "cell_type": "code",
   "execution_count": 1,
   "id": "e5199305",
   "metadata": {},
   "outputs": [],
   "source": [
    "%load_ext autoreload\n",
    "%autoreload 2"
   ]
  },
  {
   "cell_type": "code",
   "execution_count": 2,
   "id": "92eb0962",
   "metadata": {},
   "outputs": [
    {
     "name": "stderr",
     "output_type": "stream",
     "text": [
      "/Users/christopherquintas/miniconda3/envs/NFL_bigdatabowl/lib/python3.12/site-packages/tqdm/auto.py:21: TqdmWarning: IProgress not found. Please update jupyter and ipywidgets. See https://ipywidgets.readthedocs.io/en/stable/user_install.html\n",
      "  from .autonotebook import tqdm as notebook_tqdm\n"
     ]
    }
   ],
   "source": [
    "from pathlib import Path\n",
    "import torch\n",
    "import numpy as np\n",
    "import pandas as pd\n",
    "from IPython.display import display\n",
    "from torch.utils.data import DataLoader\n",
    "from src.datasets.dataset_builder import RawDataLoader, BuildDataset\n",
    "from src.datasets.dataset import DatasetUtils, Scaler, NFLPredictOnlyDataset\n",
    "\n",
    "from src.models.PlayerTracker import PlayerTrackerTransformer\n",
    "\n",
    "from src.training.trainer import Trainer\n",
    "from src.training.trainer_config import TrainConfig\n",
    "\n",
    "from src.utils.plotting import Plotter\n",
    "from src.utils.evals import Evaluator, EvaluatorUtils\n",
    "import pickle\n"
   ]
  },
  {
   "cell_type": "markdown",
   "id": "a9679802",
   "metadata": {},
   "source": [
    "### Load in Raw Data from Kaggle"
   ]
  },
  {
   "cell_type": "code",
   "execution_count": 3,
   "id": "905c9f4a",
   "metadata": {},
   "outputs": [
    {
     "name": "stdout",
     "output_type": "stream",
     "text": [
      "Loaded 18 input files and 18 output files.\n"
     ]
    }
   ],
   "source": [
    "DATA_DIR = './data/train'\n",
    "df_inputs, df_outputs = RawDataLoader.load_raw_data_from_csv(DATA_DIR)"
   ]
  },
  {
   "cell_type": "markdown",
   "id": "dd77e62e",
   "metadata": {},
   "source": [
    "### Build Dataset from Raw Data"
   ]
  },
  {
   "cell_type": "code",
   "execution_count": null,
   "id": "3921971c",
   "metadata": {},
   "outputs": [],
   "source": [
    "player_sequences = BuildDataset.build_sequences(df_inputs, df_outputs, max_out_frames=100, export_dir=\"./data/processed/train/\", export_split=False)\n",
    "#RawDataLoader.save_sequences_to_pickle(player_sequences, \"./data/processed/train/objects/player_sequences.pkl\")"
   ]
  },
  {
   "cell_type": "markdown",
   "id": "80e2d7b7",
   "metadata": {},
   "source": [
    "#### Build Dataset from Processed CSVs\n",
    "* predict - only include entries for the players you will be predicting"
   ]
  },
  {
   "cell_type": "code",
   "execution_count": 50,
   "id": "74b9d1ea",
   "metadata": {},
   "outputs": [
    {
     "name": "stderr",
     "output_type": "stream",
     "text": [
      "                                                                                  \r"
     ]
    },
    {
     "name": "stdout",
     "output_type": "stream",
     "text": [
      "Saved 46045 sequences to ./data/processed/train/objects/player_sequences_predict.pkl\n"
     ]
    }
   ],
   "source": [
    "samples_csv   = \"./data/processed/train/samples.csv\"\n",
    "sequences_csv = \"./data/processed/train/all_sequences.csv\"\n",
    "\n",
    "player_sequences_predict = RawDataLoader.load_processed_data_from_csv(samples_csv, sequences_csv, T_out=100, only_predict=True)\n",
    "RawDataLoader.save_sequences_to_pickle(player_sequences_predict, \"./data/processed/train/objects/player_sequences_predict.pkl\")\n",
    "\n",
    "# player_sequences_all = RawDataLoader.load_processed_data_from_csv(samples_csv, sequences_csv, T_out=100, only_predict=False)\n",
    "# RawDataLoader.save_sequences_to_pickle(player_sequences_all, \"./data/processed/train/objects/player_sequences_all.pkl\")"
   ]
  },
  {
   "cell_type": "markdown",
   "id": "2c38c3cf",
   "metadata": {},
   "source": [
    "### Load Serialized Dataset"
   ]
  },
  {
   "cell_type": "code",
   "execution_count": 4,
   "id": "d658bfd7",
   "metadata": {},
   "outputs": [
    {
     "name": "stdout",
     "output_type": "stream",
     "text": [
      "Loaded 46045 sequences from ./data/processed/train/objects/player_sequences_predict.pkl\n"
     ]
    }
   ],
   "source": [
    "player_sequences = RawDataLoader.load_sequences_from_pickle(\"./data/processed/train/objects/player_sequences_predict.pkl\")"
   ]
  },
  {
   "cell_type": "markdown",
   "id": "7717e5c6",
   "metadata": {},
   "source": [
    "### DataLoader Construction"
   ]
  },
  {
   "cell_type": "code",
   "execution_count": 5,
   "id": "8a0aef63",
   "metadata": {},
   "outputs": [],
   "source": [
    "DEVICE = \"mps\" if torch.backends.mps.is_available() else \"cpu\"\n",
    "BATCH_SIZE = 32"
   ]
  },
  {
   "cell_type": "code",
   "execution_count": 6,
   "id": "b3c7a961",
   "metadata": {},
   "outputs": [],
   "source": [
    "train_player_sequences, test_player_sequences = DatasetUtils.train_test_split(player_sequences, train_split=0.8, seed=1)\n",
    "scaler = Scaler()\n",
    "train_dataset = NFLPredictOnlyDataset(train_player_sequences, scaler, fit_scaler=True)\n",
    "validation_dataset  = NFLPredictOnlyDataset(test_player_sequences, scaler, fit_scaler=False)\n",
    "\n",
    "train_dataloader = DataLoader(train_dataset, batch_size=BATCH_SIZE, shuffle=True, collate_fn=NFLPredictOnlyDataset.collate_predict_only)\n",
    "validation_dataloader  = DataLoader(validation_dataset, batch_size=BATCH_SIZE, shuffle=False, collate_fn=NFLPredictOnlyDataset.collate_predict_only)"
   ]
  },
  {
   "cell_type": "markdown",
   "id": "a450d214",
   "metadata": {},
   "source": [
    "### Training Configuration"
   ]
  },
  {
   "cell_type": "code",
   "execution_count": 8,
   "id": "c9ae8d3d",
   "metadata": {},
   "outputs": [],
   "source": [
    "LEARNING_RATE = 1e-4\n",
    "EPOCHS = 50"
   ]
  },
  {
   "cell_type": "code",
   "execution_count": 9,
   "id": "1ab76c1f",
   "metadata": {},
   "outputs": [],
   "source": [
    "feature_dim = train_dataset[0]['hist'].shape[-1]\n",
    "max_predicts = 100\n",
    "\n",
    "model = PlayerTrackerTransformer(d_in=feature_dim, T_out=max_predicts).to(DEVICE)\n",
    "optimizer = torch.optim.AdamW(model.parameters(), lr=LEARNING_RATE)\n",
    "criterion = torch.nn.MSELoss(reduction=\"none\") # want custom mean"
   ]
  },
  {
   "cell_type": "code",
   "execution_count": 10,
   "id": "850ba253",
   "metadata": {},
   "outputs": [],
   "source": [
    "config = TrainConfig()\n",
    "config.learning_rate = LEARNING_RATE\n",
    "config.batch_size = BATCH_SIZE\n",
    "config.num_epochs = EPOCHS\n",
    "config.device = DEVICE\n",
    "config.checkpoint = True"
   ]
  },
  {
   "cell_type": "markdown",
   "id": "598d6d69",
   "metadata": {},
   "source": [
    "### Train Model"
   ]
  },
  {
   "cell_type": "code",
   "execution_count": 11,
   "id": "4108d2e0",
   "metadata": {},
   "outputs": [
    {
     "name": "stderr",
     "output_type": "stream",
     "text": [
      "                                                                                  \r"
     ]
    },
    {
     "name": "stdout",
     "output_type": "stream",
     "text": [
      "Saved best model at epoch 1 (val rmse=1.5223)\n",
      "Saved best model at epoch 1 (train rmse=2.1623)\n"
     ]
    },
    {
     "name": "stderr",
     "output_type": "stream",
     "text": [
      "                                                                                  \r"
     ]
    },
    {
     "name": "stdout",
     "output_type": "stream",
     "text": [
      "Saved best model at epoch 2 (val rmse=1.2625)\n",
      "Saved best model at epoch 2 (train rmse=1.4174)\n"
     ]
    },
    {
     "name": "stderr",
     "output_type": "stream",
     "text": [
      "                                                                                  \r"
     ]
    },
    {
     "name": "stdout",
     "output_type": "stream",
     "text": [
      "Saved best model at epoch 3 (val rmse=1.1483)\n",
      "Saved best model at epoch 3 (train rmse=1.2374)\n"
     ]
    },
    {
     "name": "stderr",
     "output_type": "stream",
     "text": [
      "                                                                                  \r"
     ]
    },
    {
     "name": "stdout",
     "output_type": "stream",
     "text": [
      "Saved best model at epoch 4 (val rmse=1.0977)\n",
      "Saved best model at epoch 4 (train rmse=1.1353)\n"
     ]
    },
    {
     "name": "stderr",
     "output_type": "stream",
     "text": [
      "                                                                                  \r"
     ]
    },
    {
     "name": "stdout",
     "output_type": "stream",
     "text": [
      "Saved best model at epoch 5 (val rmse=1.0248)\n",
      "Saved best model at epoch 5 (train rmse=1.0771)\n"
     ]
    },
    {
     "name": "stderr",
     "output_type": "stream",
     "text": [
      "                                                                                  \r"
     ]
    },
    {
     "name": "stdout",
     "output_type": "stream",
     "text": [
      "Saved best model at epoch 6 (val rmse=1.0105)\n",
      "Saved best model at epoch 6 (train rmse=1.0321)\n"
     ]
    },
    {
     "name": "stderr",
     "output_type": "stream",
     "text": [
      "                                                                                  \r"
     ]
    },
    {
     "name": "stdout",
     "output_type": "stream",
     "text": [
      "Saved best model at epoch 7 (val rmse=0.9402)\n",
      "Saved best model at epoch 7 (train rmse=1.0000)\n"
     ]
    },
    {
     "name": "stderr",
     "output_type": "stream",
     "text": [
      "                                                                                  \r"
     ]
    },
    {
     "name": "stdout",
     "output_type": "stream",
     "text": [
      "Saved best model at epoch 8 (train rmse=0.9657)\n"
     ]
    },
    {
     "name": "stderr",
     "output_type": "stream",
     "text": [
      "                                                                                  \r"
     ]
    },
    {
     "name": "stdout",
     "output_type": "stream",
     "text": [
      "Saved best model at epoch 9 (val rmse=0.9103)\n",
      "Saved best model at epoch 9 (train rmse=0.9378)\n"
     ]
    },
    {
     "name": "stderr",
     "output_type": "stream",
     "text": [
      "                                                                                   \r"
     ]
    },
    {
     "name": "stdout",
     "output_type": "stream",
     "text": [
      "Saved best model at epoch 10 (train rmse=0.9200)\n"
     ]
    },
    {
     "name": "stderr",
     "output_type": "stream",
     "text": [
      "                                                                                   \r"
     ]
    },
    {
     "name": "stdout",
     "output_type": "stream",
     "text": [
      "Saved best model at epoch 11 (train rmse=0.9006)\n"
     ]
    },
    {
     "name": "stderr",
     "output_type": "stream",
     "text": [
      "                                                                                   \r"
     ]
    },
    {
     "name": "stdout",
     "output_type": "stream",
     "text": [
      "Saved best model at epoch 12 (val rmse=0.8420)\n",
      "Saved best model at epoch 12 (train rmse=0.8840)\n"
     ]
    },
    {
     "name": "stderr",
     "output_type": "stream",
     "text": [
      "                                                                                   \r"
     ]
    },
    {
     "name": "stdout",
     "output_type": "stream",
     "text": [
      "Saved best model at epoch 13 (train rmse=0.8699)\n"
     ]
    },
    {
     "name": "stderr",
     "output_type": "stream",
     "text": [
      "                                                                                   \r"
     ]
    },
    {
     "name": "stdout",
     "output_type": "stream",
     "text": [
      "Saved best model at epoch 14 (train rmse=0.8549)\n"
     ]
    },
    {
     "name": "stderr",
     "output_type": "stream",
     "text": [
      "                                                                                   \r"
     ]
    },
    {
     "name": "stdout",
     "output_type": "stream",
     "text": [
      "Saved best model at epoch 15 (val rmse=0.8315)\n",
      "Saved best model at epoch 15 (train rmse=0.8392)\n"
     ]
    },
    {
     "name": "stderr",
     "output_type": "stream",
     "text": [
      "                                                                                   \r"
     ]
    },
    {
     "name": "stdout",
     "output_type": "stream",
     "text": [
      "Saved best model at epoch 16 (train rmse=0.8296)\n"
     ]
    },
    {
     "name": "stderr",
     "output_type": "stream",
     "text": [
      "                                                                                   \r"
     ]
    },
    {
     "name": "stdout",
     "output_type": "stream",
     "text": [
      "Saved best model at epoch 17 (train rmse=0.8212)\n"
     ]
    },
    {
     "name": "stderr",
     "output_type": "stream",
     "text": [
      "                                                                                   \r"
     ]
    },
    {
     "name": "stdout",
     "output_type": "stream",
     "text": [
      "Saved best model at epoch 18 (val rmse=0.8069)\n",
      "Saved best model at epoch 18 (train rmse=0.8103)\n"
     ]
    },
    {
     "name": "stderr",
     "output_type": "stream",
     "text": [
      "                                                                                   \r"
     ]
    },
    {
     "name": "stdout",
     "output_type": "stream",
     "text": [
      "Saved best model at epoch 19 (train rmse=0.7998)\n"
     ]
    },
    {
     "name": "stderr",
     "output_type": "stream",
     "text": [
      "                                                                                   \r"
     ]
    },
    {
     "name": "stdout",
     "output_type": "stream",
     "text": [
      "Saved best model at epoch 20 (val rmse=0.7978)\n",
      "Saved best model at epoch 20 (train rmse=0.7910)\n"
     ]
    },
    {
     "name": "stderr",
     "output_type": "stream",
     "text": [
      "                                                                                   \r"
     ]
    },
    {
     "name": "stdout",
     "output_type": "stream",
     "text": [
      "Saved best model at epoch 21 (train rmse=0.7825)\n"
     ]
    },
    {
     "name": "stderr",
     "output_type": "stream",
     "text": [
      "                                                                                   \r"
     ]
    },
    {
     "name": "stdout",
     "output_type": "stream",
     "text": [
      "Saved best model at epoch 22 (val rmse=0.7852)\n",
      "Saved best model at epoch 22 (train rmse=0.7762)\n"
     ]
    },
    {
     "name": "stderr",
     "output_type": "stream",
     "text": [
      "                                                                                   \r"
     ]
    },
    {
     "name": "stdout",
     "output_type": "stream",
     "text": [
      "Saved best model at epoch 23 (train rmse=0.7724)\n"
     ]
    },
    {
     "name": "stderr",
     "output_type": "stream",
     "text": [
      "                                                                                   \r"
     ]
    },
    {
     "name": "stdout",
     "output_type": "stream",
     "text": [
      "Saved best model at epoch 24 (train rmse=0.7578)\n"
     ]
    },
    {
     "name": "stderr",
     "output_type": "stream",
     "text": [
      "                                                                                   \r"
     ]
    },
    {
     "name": "stdout",
     "output_type": "stream",
     "text": [
      "Saved best model at epoch 25 (train rmse=0.7545)\n"
     ]
    },
    {
     "name": "stderr",
     "output_type": "stream",
     "text": [
      "                                                                                   \r"
     ]
    },
    {
     "name": "stdout",
     "output_type": "stream",
     "text": [
      "Saved best model at epoch 26 (val rmse=0.7738)\n",
      "Saved best model at epoch 26 (train rmse=0.7480)\n"
     ]
    },
    {
     "name": "stderr",
     "output_type": "stream",
     "text": [
      "                                                                                   \r"
     ]
    },
    {
     "name": "stdout",
     "output_type": "stream",
     "text": [
      "Saved best model at epoch 27 (val rmse=0.7641)\n",
      "Saved best model at epoch 27 (train rmse=0.7434)\n"
     ]
    },
    {
     "name": "stderr",
     "output_type": "stream",
     "text": [
      "                                                                                   \r"
     ]
    },
    {
     "name": "stdout",
     "output_type": "stream",
     "text": [
      "Saved best model at epoch 28 (train rmse=0.7345)\n"
     ]
    },
    {
     "name": "stderr",
     "output_type": "stream",
     "text": [
      "                                                                                   \r"
     ]
    },
    {
     "name": "stdout",
     "output_type": "stream",
     "text": [
      "Saved best model at epoch 29 (val rmse=0.7538)\n",
      "Saved best model at epoch 29 (train rmse=0.7310)\n"
     ]
    },
    {
     "name": "stderr",
     "output_type": "stream",
     "text": [
      "                                                                                   \r"
     ]
    },
    {
     "name": "stdout",
     "output_type": "stream",
     "text": [
      "Saved best model at epoch 30 (train rmse=0.7238)\n"
     ]
    },
    {
     "name": "stderr",
     "output_type": "stream",
     "text": [
      "                                                                                   \r"
     ]
    },
    {
     "name": "stdout",
     "output_type": "stream",
     "text": [
      "Saved best model at epoch 32 (train rmse=0.7163)\n"
     ]
    },
    {
     "name": "stderr",
     "output_type": "stream",
     "text": [
      "                                                                                   \r"
     ]
    },
    {
     "name": "stdout",
     "output_type": "stream",
     "text": [
      "Saved best model at epoch 33 (train rmse=0.7054)\n"
     ]
    },
    {
     "name": "stderr",
     "output_type": "stream",
     "text": [
      "                                                                                   \r"
     ]
    },
    {
     "name": "stdout",
     "output_type": "stream",
     "text": [
      "Saved best model at epoch 34 (train rmse=0.7051)\n"
     ]
    },
    {
     "name": "stderr",
     "output_type": "stream",
     "text": [
      "                                                                                   \r"
     ]
    },
    {
     "name": "stdout",
     "output_type": "stream",
     "text": [
      "Saved best model at epoch 35 (train rmse=0.6995)\n"
     ]
    },
    {
     "name": "stderr",
     "output_type": "stream",
     "text": [
      "                                                                                   \r"
     ]
    },
    {
     "name": "stdout",
     "output_type": "stream",
     "text": [
      "Saved best model at epoch 36 (val rmse=0.7532)\n",
      "Saved best model at epoch 36 (train rmse=0.6914)\n"
     ]
    },
    {
     "name": "stderr",
     "output_type": "stream",
     "text": [
      "                                                                                   \r"
     ]
    },
    {
     "name": "stdout",
     "output_type": "stream",
     "text": [
      "Saved best model at epoch 37 (train rmse=0.6894)\n"
     ]
    },
    {
     "name": "stderr",
     "output_type": "stream",
     "text": [
      "                                                                                   \r"
     ]
    },
    {
     "name": "stdout",
     "output_type": "stream",
     "text": [
      "Saved best model at epoch 38 (train rmse=0.6820)\n"
     ]
    },
    {
     "name": "stderr",
     "output_type": "stream",
     "text": [
      "                                                                                   \r"
     ]
    },
    {
     "name": "stdout",
     "output_type": "stream",
     "text": [
      "Saved best model at epoch 39 (train rmse=0.6757)\n"
     ]
    },
    {
     "name": "stderr",
     "output_type": "stream",
     "text": [
      "                                                                                   \r"
     ]
    },
    {
     "name": "stdout",
     "output_type": "stream",
     "text": [
      "Saved best model at epoch 40 (train rmse=0.6726)\n"
     ]
    },
    {
     "name": "stderr",
     "output_type": "stream",
     "text": [
      "                                                                                   \r"
     ]
    },
    {
     "name": "stdout",
     "output_type": "stream",
     "text": [
      "Saved best model at epoch 41 (train rmse=0.6654)\n"
     ]
    },
    {
     "name": "stderr",
     "output_type": "stream",
     "text": [
      "                                                                                   \r"
     ]
    },
    {
     "name": "stdout",
     "output_type": "stream",
     "text": [
      "Saved best model at epoch 42 (train rmse=0.6647)\n"
     ]
    },
    {
     "name": "stderr",
     "output_type": "stream",
     "text": [
      "                                                                                   \r"
     ]
    },
    {
     "name": "stdout",
     "output_type": "stream",
     "text": [
      "Saved best model at epoch 43 (train rmse=0.6639)\n"
     ]
    },
    {
     "name": "stderr",
     "output_type": "stream",
     "text": [
      "                                                                                   \r"
     ]
    },
    {
     "name": "stdout",
     "output_type": "stream",
     "text": [
      "Saved best model at epoch 44 (train rmse=0.6564)\n"
     ]
    },
    {
     "name": "stderr",
     "output_type": "stream",
     "text": [
      "                                                                                   \r"
     ]
    },
    {
     "name": "stdout",
     "output_type": "stream",
     "text": [
      "Saved best model at epoch 45 (val rmse=0.7513)\n",
      "Saved best model at epoch 45 (train rmse=0.6529)\n"
     ]
    },
    {
     "name": "stderr",
     "output_type": "stream",
     "text": [
      "                                                                                   \r"
     ]
    },
    {
     "name": "stdout",
     "output_type": "stream",
     "text": [
      "Saved best model at epoch 46 (train rmse=0.6478)\n"
     ]
    },
    {
     "name": "stderr",
     "output_type": "stream",
     "text": [
      "                                                                                   \r"
     ]
    },
    {
     "name": "stdout",
     "output_type": "stream",
     "text": [
      "Saved best model at epoch 48 (val rmse=0.7349)\n",
      "Saved best model at epoch 48 (train rmse=0.6412)\n"
     ]
    },
    {
     "name": "stderr",
     "output_type": "stream",
     "text": [
      "                                                                                   \r"
     ]
    },
    {
     "name": "stdout",
     "output_type": "stream",
     "text": [
      "Saved best model at epoch 49 (train rmse=0.6402)\n"
     ]
    },
    {
     "name": "stderr",
     "output_type": "stream",
     "text": [
      "                                                                                   \r"
     ]
    },
    {
     "name": "stdout",
     "output_type": "stream",
     "text": [
      "Saved best model at epoch 50 (train rmse=0.6353)\n"
     ]
    }
   ],
   "source": [
    "trainer = Trainer(config, optimizer, criterion, run_desc=\"Full_Train\")\n",
    "trainer.fit(model, train_dataloader, validation_dataloader)"
   ]
  },
  {
   "cell_type": "markdown",
   "id": "a9541b18",
   "metadata": {},
   "source": [
    "### Load Model"
   ]
  },
  {
   "cell_type": "code",
   "execution_count": 20,
   "id": "4677228a",
   "metadata": {},
   "outputs": [
    {
     "name": "stdout",
     "output_type": "stream",
     "text": [
      "1\n"
     ]
    },
    {
     "name": "stderr",
     "output_type": "stream",
     "text": [
      "/Users/christopherquintas/miniconda3/envs/NFL_bigdatabowl/lib/python3.12/site-packages/torch/nn/modules/transformer.py:392: UserWarning: enable_nested_tensor is True, but self.use_nested_tensor is False because encoder_layer.norm_first was True\n",
      "  warnings.warn(\n"
     ]
    }
   ],
   "source": [
    "ckpt = torch.load('./model_registry/best_model_train.pt', map_location=DEVICE)[\"model_state\"]\n",
    "\n",
    "model = PlayerTrackerTransformer(d_in=11, T_out=100)\n",
    "\n",
    "model.load_state_dict(ckpt)\n",
    "model.to(DEVICE)\n",
    "model.eval() \n",
    "print(1)"
   ]
  },
  {
   "cell_type": "markdown",
   "id": "f89b4f59",
   "metadata": {},
   "source": [
    "### Evaluate Model"
   ]
  },
  {
   "cell_type": "code",
   "execution_count": 12,
   "id": "b902372a",
   "metadata": {},
   "outputs": [],
   "source": [
    "xl = DataLoader(train_dataset, batch_size=1, shuffle=True, collate_fn=NFLPredictOnlyDataset.collate_predict_only)"
   ]
  },
  {
   "cell_type": "code",
   "execution_count": null,
   "id": "b6bdb4b7",
   "metadata": {},
   "outputs": [],
   "source": [
    "model.to(DEVICE).eval()\n",
    "hist, padded_frame_mask, last_known_xy, target_xy, meta = next(iter(xl))"
   ]
  },
  {
   "cell_type": "code",
   "execution_count": 24,
   "id": "16b293bc",
   "metadata": {},
   "outputs": [
    {
     "name": "stdout",
     "output_type": "stream",
     "text": [
      "META: {'gid': [2023092412], 'pid': [792], 'nfl_id': [37078], 'target_mask': tensor([[True, True, True, True, True, True, True, True, True]]), 'target_lengths': tensor([9])}\n",
      "PREDS: tensor([[[78.5338, 34.5794],\n",
      "         [78.6400, 33.8713],\n",
      "         [78.7676, 33.0709],\n",
      "         [78.8640, 32.2994],\n",
      "         [79.0223, 31.4485],\n",
      "         [79.2233, 30.5537],\n",
      "         [79.3727, 29.7890],\n",
      "         [79.5149, 28.9041],\n",
      "         [79.7286, 28.0603]]], device='mps:0', grad_fn=<SliceBackward0>)\n",
      "TARGET: tensor([[[78.5400, 34.5900],\n",
      "         [78.6500, 33.9000],\n",
      "         [78.7900, 33.1900],\n",
      "         [78.9500, 32.4500],\n",
      "         [79.1200, 31.7000],\n",
      "         [79.3100, 30.9400],\n",
      "         [79.5200, 30.1800],\n",
      "         [79.7500, 29.4300],\n",
      "         [79.9900, 28.7000]]], device='mps:0')\n"
     ]
    },
    {
     "data": {
      "image/png": "[encoded data removed]",
      "text/plain": [
       "<Figure size 800x400 with 1 Axes>"
      ]
     },
     "metadata": {},
     "output_type": "display_data"
    }
   ],
   "source": [
    "hist, padded_frame_mask, last_known_xy, target_xy = hist.to(DEVICE), padded_frame_mask.to(DEVICE), last_known_xy.to(DEVICE), target_xy.to(DEVICE)\n",
    "\n",
    "preds = model(hist, padded_frame_mask, last_known_xy)\n",
    "T_use = target_xy.size(1)\n",
    "preds = preds[:, :T_use, :] \n",
    "print(f\"META: {meta}\\nPREDS: {preds}\\nTARGET: {target_xy}\")\n",
    "\n",
    "GAME_ID, PLAY_ID, NFL_ID = meta['gid'][0], meta['pid'][0], meta['nfl_id'][0]\n",
    "\n",
    "preds_dict = Evaluator.predict_play_trajectories(model, scaler, seqs=train_dataset, game_id=GAME_ID, play_id=PLAY_ID, device=DEVICE)\n",
    "\n",
    "sequences_predict_csv = \"./data/processed/train/sequences_predict.csv\"\n",
    "sequences_non_predict_csv = \"./data/processed/train/sequences_non_predict.csv\"\n",
    "df_pred, df_npred = pd.read_csv(sequences_predict_csv), pd.read_csv(sequences_non_predict_csv)\n",
    "\n",
    "Plotter.plot_single_player_with_pred(\n",
    "    df_pred, df_npred,\n",
    "    preds=preds,\n",
    "    game_id=GAME_ID, play_id=PLAY_ID, nfl_id=NFL_ID,\n",
    "    preds_dict=preds_dict,\n",
    "    save_fig_path = './images/predict_plot.png'\n",
    ")"
   ]
  },
  {
   "cell_type": "code",
   "execution_count": null,
   "id": "78ad963a",
   "metadata": {},
   "outputs": [],
   "source": [
    "dd"
   ]
  }
 ],
 "metadata": {
  "kernelspec": {
   "display_name": "NFL_bigdatabowl",
   "language": "python",
   "name": "python3"
  },
  "language_info": {
   "codemirror_mode": {
    "name": "ipython",
    "version": 3
   },
   "file_extension": ".py",
   "mimetype": "text/x-python",
   "name": "python",
   "nbconvert_exporter": "python",
   "pygments_lexer": "ipython3",
   "version": "3.12.12"
  }
 },
 "nbformat": 4,
 "nbformat_minor": 5
}
