{
 "cells": [
  {
   "cell_type": "code",
   "execution_count": 1,
   "id": "e5199305",
   "metadata": {},
   "outputs": [],
   "source": [
    "%load_ext autoreload\n",
    "%autoreload 2"
   ]
  },
  {
   "cell_type": "code",
   "execution_count": 2,
   "id": "92eb0962",
   "metadata": {},
   "outputs": [
    {
     "name": "stderr",
     "output_type": "stream",
     "text": [
      "/Users/christopherquintas/miniconda3/envs/NFL_bigdatabowl/lib/python3.12/site-packages/tqdm/auto.py:21: TqdmWarning: IProgress not found. Please update jupyter and ipywidgets. See https://ipywidgets.readthedocs.io/en/stable/user_install.html\n",
      "  from .autonotebook import tqdm as notebook_tqdm\n"
     ]
    }
   ],
   "source": [
    "from pathlib import Path\n",
    "import torch\n",
    "import numpy as np\n",
    "import pandas as pd\n",
    "from IPython.display import display\n",
    "from torch.utils.data import DataLoader\n",
    "from src.datasets.dataset_builder import RawDataLoader, BuildDataset\n",
    "from src.datasets.dataset import DatasetUtils, Scaler, NFLPredictOnlyDataset\n",
    "\n",
    "from src.models.PlayerTracker import PlayerTrackerTransformer\n",
    "\n",
    "from src.training.trainer import Trainer\n",
    "from src.training.trainer_config import TrainConfig\n",
    "\n",
    "from src.utils.plotting import Plotter\n",
    "from src.utils.evals import Evaluator, EvaluatorUtils\n"
   ]
  },
  {
   "cell_type": "markdown",
   "id": "a9679802",
   "metadata": {},
   "source": [
    "### Load in Raw Data from Kaggle"
   ]
  },
  {
   "cell_type": "code",
   "execution_count": 3,
   "id": "905c9f4a",
   "metadata": {},
   "outputs": [
    {
     "name": "stdout",
     "output_type": "stream",
     "text": [
      "Loaded 18 input files and 18 output files.\n"
     ]
    }
   ],
   "source": [
    "DATA_DIR = './data/train'\n",
    "df_inputs, df_outputs = RawDataLoader.load_raw_data_from_csv(DATA_DIR)"
   ]
  },
  {
   "cell_type": "markdown",
   "id": "dd77e62e",
   "metadata": {},
   "source": [
    "### Build Dataset from Raw Data"
   ]
  },
  {
   "cell_type": "code",
   "execution_count": null,
   "id": "3921971c",
   "metadata": {},
   "outputs": [],
   "source": [
    "player_sequences = BuildDataset.build_sequences(df_inputs, df_outputs, max_out_frames=100, export_dir=\"./data/processed/train/\", export_split=False)\n",
    "#RawDataLoader.save_sequences_to_pickle(player_sequences, \"./data/processed/train/objects/player_sequences.pkl\")"
   ]
  },
  {
   "cell_type": "markdown",
   "id": "80e2d7b7",
   "metadata": {},
   "source": [
    "#### Build Dataset from Processed CSVs\n",
    "* predict - only include entries for the players you will be predicting"
   ]
  },
  {
   "cell_type": "code",
   "execution_count": 50,
   "id": "74b9d1ea",
   "metadata": {},
   "outputs": [
    {
     "name": "stderr",
     "output_type": "stream",
     "text": [
      "                                                                                  \r"
     ]
    },
    {
     "name": "stdout",
     "output_type": "stream",
     "text": [
      "Saved 46045 sequences to ./data/processed/train/objects/player_sequences_predict.pkl\n"
     ]
    }
   ],
   "source": [
    "samples_csv   = \"./data/processed/train/samples.csv\"\n",
    "sequences_csv = \"./data/processed/train/all_sequences.csv\"\n",
    "\n",
    "player_sequences_predict = RawDataLoader.load_processed_data_from_csv(samples_csv, sequences_csv, T_out=100, only_predict=True)\n",
    "RawDataLoader.save_sequences_to_pickle(player_sequences_predict, \"./data/processed/train/objects/player_sequences_predict.pkl\")\n",
    "\n",
    "# player_sequences_all = RawDataLoader.load_processed_data_from_csv(samples_csv, sequences_csv, T_out=100, only_predict=False)\n",
    "# RawDataLoader.save_sequences_to_pickle(player_sequences_all, \"./data/processed/train/objects/player_sequences_all.pkl\")"
   ]
  },
  {
   "cell_type": "markdown",
   "id": "2c38c3cf",
   "metadata": {},
   "source": [
    "### Load Serialized Dataset"
   ]
  },
  {
   "cell_type": "code",
   "execution_count": 4,
   "id": "d658bfd7",
   "metadata": {},
   "outputs": [
    {
     "name": "stdout",
     "output_type": "stream",
     "text": [
      "Loaded 46045 sequences from ./data/processed/train/objects/player_sequences_predict.pkl\n"
     ]
    }
   ],
   "source": [
    "player_sequences = RawDataLoader.load_sequences_from_pickle(\"./data/processed/train/objects/player_sequences_predict.pkl\")a"
   ]
  },
  {
   "cell_type": "markdown",
   "id": "7717e5c6",
   "metadata": {},
   "source": [
    "### DataLoader Construction"
   ]
  },
  {
   "cell_type": "code",
   "execution_count": null,
   "id": "8a0aef63",
   "metadata": {},
   "outputs": [],
   "source": [
    "DEVICE = \"mps\" if torch.backends.mps.is_available() else \"cpu\"\n",
    "BATCH_SIZE = 32"
   ]
  },
  {
   "cell_type": "code",
   "execution_count": null,
   "id": "b3c7a961",
   "metadata": {},
   "outputs": [],
   "source": [
    "train_player_sequences, test_player_sequences = DatasetUtils.train_test_split(player_sequences, train_split=0.8, seed=1)\n",
    "scaler = Scaler()\n",
    "train_dataset = NFLPredictOnlyDataset(train_player_sequences, scaler, fit_scaler=True)\n",
    "validation_dataset  = NFLPredictOnlyDataset(test_player_sequences, scaler, fit_scaler=False)\n",
    "\n",
    "train_dataloader = DataLoader(train_dataset, batch_size=BATCH_SIZE, shuffle=True, collate_fn=NFLPredictOnlyDataset.collate_predict_only)\n",
    "validation_dataloader  = DataLoader(validation_dataset, batch_size=BATCH_SIZE, shuffle=False, collate_fn=NFLPredictOnlyDataset.collate_predict_only)"
   ]
  },
  {
   "cell_type": "markdown",
   "id": "a450d214",
   "metadata": {},
   "source": [
    "### Training Configuration"
   ]
  },
  {
   "cell_type": "code",
   "execution_count": null,
   "id": "c9ae8d3d",
   "metadata": {},
   "outputs": [],
   "source": [
    "LEARNING_RATE = 1e-4\n",
    "EPOCHS = 20"
   ]
  },
  {
   "cell_type": "code",
   "execution_count": 9,
   "id": "1ab76c1f",
   "metadata": {},
   "outputs": [
    {
     "name": "stderr",
     "output_type": "stream",
     "text": [
      "/Users/christopherquintas/miniconda3/envs/NFL_bigdatabowl/lib/python3.12/site-packages/torch/nn/modules/transformer.py:392: UserWarning: enable_nested_tensor is True, but self.use_nested_tensor is False because encoder_layer.norm_first was True\n",
      "  warnings.warn(\n"
     ]
    }
   ],
   "source": [
    "feature_dim = train_dataset[0]['hist'].shape[-1]\n",
    "max_predicts = 100\n",
    "\n",
    "model = PlayerTrackerTransformer(d_in=feature_dim, T_out=max_predicts).to(DEVICE)\n",
    "optimizer = torch.optim.AdamW(model.parameters(), lr=LEARNING_RATE)\n",
    "criterion = torch.nn.MSELoss(reduction=\"none\") # want custom mean"
   ]
  },
  {
   "cell_type": "code",
   "execution_count": 10,
   "id": "850ba253",
   "metadata": {},
   "outputs": [],
   "source": [
    "config = TrainConfig()\n",
    "config.learning_rate = LEARNING_RATE\n",
    "config.batch_size = BATCH_SIZE\n",
    "config.num_epochs = EPOCHS\n",
    "config.device = DEVICE\n",
    "config.checkpoint = True"
   ]
  },
  {
   "cell_type": "markdown",
   "id": "598d6d69",
   "metadata": {},
   "source": [
    "### Train Model"
   ]
  },
  {
   "cell_type": "code",
   "execution_count": null,
   "id": "4108d2e0",
   "metadata": {},
   "outputs": [],
   "source": [
    "trainer = Trainer(config, optimizer, criterion, run_desc=\"NewArch\")\n",
    "trainer.fit(model, train_dataloader, validation_dataloader)"
   ]
  },
  {
   "cell_type": "markdown",
   "id": "a9541b18",
   "metadata": {},
   "source": [
    "### Load Model"
   ]
  },
  {
   "cell_type": "code",
   "execution_count": null,
   "id": "4677228a",
   "metadata": {},
   "outputs": [],
   "source": [
    "ckpt = torch.load('./runs/20251027_233558_NewArch/checkpoints/best_model_train.pt', map_location=DEVICE)[\"model_state\"]\n",
    "\n",
    "model = PlayerTrackerTransformer(d_in=feature_dim, T_out=100)\n",
    "\n",
    "model.load_state_dict(ckpt)\n",
    "model.to(DEVICE)\n",
    "model.eval() "
   ]
  },
  {
   "cell_type": "markdown",
   "id": "f89b4f59",
   "metadata": {},
   "source": [
    "### Evaluate Model"
   ]
  },
  {
   "cell_type": "code",
   "execution_count": 14,
   "id": "b902372a",
   "metadata": {},
   "outputs": [],
   "source": [
    "xl = DataLoader(train_dataset, batch_size=1, shuffle=True, collate_fn=NFLPredictOnlyDataset.collate_predict_only)"
   ]
  },
  {
   "cell_type": "code",
   "execution_count": 42,
   "id": "16b293bc",
   "metadata": {},
   "outputs": [
    {
     "name": "stdout",
     "output_type": "stream",
     "text": [
      "META: {'gid': [2023123114], 'pid': [1174], 'nfl_id': [53649], 'target_mask': tensor([[True, True, True, True, True, True, True, True, True, True, True]]), 'target_lengths': tensor([11])}\n",
      "PREDS: tensor([[[64.4225, 23.1828],\n",
      "         [64.0508, 23.1497],\n",
      "         [63.6014, 23.2136],\n",
      "         [63.1216, 23.2366],\n",
      "         [62.6116, 23.3586],\n",
      "         [62.1198, 23.4604],\n",
      "         [61.5501, 23.6327],\n",
      "         [60.9991, 23.7796],\n",
      "         [60.4265, 23.9480],\n",
      "         [59.9236, 24.1902],\n",
      "         [59.4327, 24.4183]]], device='mps:0', grad_fn=<SliceBackward0>)\n",
      "TARGET: tensor([[[64.5000, 23.1400],\n",
      "         [64.0100, 23.1700],\n",
      "         [63.5100, 23.2500],\n",
      "         [63.0000, 23.3700],\n",
      "         [62.4900, 23.5400],\n",
      "         [61.9800, 23.7500],\n",
      "         [61.4600, 24.0100],\n",
      "         [60.9400, 24.3200],\n",
      "         [60.4300, 24.6600],\n",
      "         [59.9200, 25.0500],\n",
      "         [59.4200, 25.4700]]], device='mps:0')\n"
     ]
    },
    {
     "data": {
      "image/png": "[encoded data removed]",
      "text/plain": [
       "<Figure size 800x400 with 1 Axes>"
      ]
     },
     "metadata": {},
     "output_type": "display_data"
    }
   ],
   "source": [
    "model.to(DEVICE).eval()\n",
    "\n",
    "hist, padded_frame_mask, last_known_xy, target_xy, meta = next(iter(xl))\n",
    "hist, padded_frame_mask, last_known_xy, target_xy = hist.to(DEVICE), padded_frame_mask.to(DEVICE), last_known_xy.to(DEVICE), target_xy.to(DEVICE)\n",
    "\n",
    "preds = model(hist, padded_frame_mask, last_known_xy)\n",
    "T_use = target_xy.size(1)\n",
    "preds = preds[:, :T_use, :] \n",
    "print(f\"META: {meta}\\nPREDS: {preds}\\nTARGET: {target_xy}\")\n",
    "\n",
    "GAME_ID, PLAY_ID, NFL_ID = meta['gid'][0], meta['pid'][0], meta['nfl_id'][0]\n",
    "\n",
    "preds_dict = Evaluator.predict_play_trajectories(model, scaler, seqs=train_dataset, game_id=GAME_ID, play_id=PLAY_ID, device=DEVICE)\n",
    "\n",
    "sequences_predict_csv = \"./data/processed/train/sequences_predict.csv\"\n",
    "sequences_non_predict_csv = \"./data/processed/train/sequences_non_predict.csv\"\n",
    "df_pred, df_npred = pd.read_csv(sequences_predict_csv), pd.read_csv(sequences_non_predict_csv)\n",
    "\n",
    "Plotter.plot_single_player_with_pred(\n",
    "    df_pred, df_npred,\n",
    "    preds=preds,\n",
    "    game_id=GAME_ID, play_id=PLAY_ID, nfl_id=NFL_ID,\n",
    "    preds_dict=preds_dict,\n",
    "    save_fig_path = './images/predict_plot.png'\n",
    ")"
   ]
  },
  {
   "cell_type": "code",
   "execution_count": null,
   "id": "78ad963a",
   "metadata": {},
   "outputs": [],
   "source": [
    "dd"
   ]
  }
 ],
 "metadata": {
  "kernelspec": {
   "display_name": "NFL_bigdatabowl",
   "language": "python",
   "name": "python3"
  },
  "language_info": {
   "codemirror_mode": {
    "name": "ipython",
    "version": 3
   },
   "file_extension": ".py",
   "mimetype": "text/x-python",
   "name": "python",
   "nbconvert_exporter": "python",
   "pygments_lexer": "ipython3",
   "version": "3.12.12"
  }
 },
 "nbformat": 4,
 "nbformat_minor": 5
}
